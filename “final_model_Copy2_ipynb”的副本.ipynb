{
  "cells": [
    {
      "cell_type": "markdown",
      "metadata": {
        "id": "view-in-github"
      },
      "source": [
        "<a href=\"https://colab.research.google.com/github/karankishinani/Emotion-detection-from-text-using-PyTorch-and-Federated-Learning/blob/master/Emotion_detection_from_text_using_PyTorch.ipynb\" target=\"_parent\"><img src=\"https://colab.research.google.com/assets/colab-badge.svg\" alt=\"Open In Colab\"/></a>"
      ]
    },
    {
      "cell_type": "markdown",
      "metadata": {
        "id": "rufFNufqDmUO"
      },
      "source": [
        "# Emotion detection from text using PyTorch and Federated Learning\n",
        "\n",
        "For this project, we are going to implement an NLP task of creating a model to detect the emotion from text. We will develop this using the PyTorch library and the Federated Learning framework for decentralized training.\n",
        "\n",
        "We will create an emotion detection for the following 5 emotions:\n",
        "\n",
        "| Emotion | Emoji   | Label   |\n",
        "|------|------|------|\n",
        "|Loving| ❤️| 0|\n",
        "|Playful| ⚽️| 1|\n",
        "|Happy| 😄| 2|\n",
        "|Annoyed| 😞| 3|\n",
        "|Foodie| 🍽| 4|\n",
        "\n",
        "## Dataset\n",
        "\n",
        "We will work with a dataset (X, Y) where we have:\n",
        "*   X contains 132 sentences\n",
        "*   Y contains a label between [0, 4] corresponding to the five emotions.\n",
        "\n",
        "For example:\n",
        "\n",
        "| Sentence | Emotion   |\n",
        "|----------|-----------|\n",
        "|food is life|  🍽 Foodie|\n",
        "|I love you mum|  ❤️ Loving|\n",
        "|Stop saying bullshit|  😞 Annoyed|\n",
        "|congratulations on your acceptance|  😄 Happy|\n",
        "|The assignment is too long|    😞 Annoyed|\n",
        "|I want to go play| ⚽️ Playful|\n",
        "|she did not answer my text| 😞 Annoyed|\n",
        "|Your stupidity has no limit| 😞 Annoyed|\n",
        "|how many points did he score|  ⚽️ Playful|\n",
        "|my algorithm performs poorly| 😞 Annoyed|\n",
        "|I got approved|  😄 Happy|\n",
        "\n",
        "## The Model\n",
        "We will build an LSTM model that takes as input word sequences that will take word ordering into account. We will use 50-dimensional [GloVe](https://nlp.stanford.edu/projects/glove/) pre-trained word embeddings to represent words. We will then feed those as an input into an LSTM that will predict the most appropiate emotion for the text.\n",
        "\n",
        "![alt text](https://drive.google.com/uc?id=1s-KYhU5JWF-jvAlZ2MIKKugxLLDdhpQP)\n"
      ]
    },
    {
      "cell_type": "code",
      "source": [
        "!pip install SpeechRecognition"
      ],
      "metadata": {
        "colab": {
          "base_uri": "https://localhost:8080/"
        },
        "id": "hBlnBPZyoXXC",
        "outputId": "c74588b4-ffa6-4ef6-8154-0d6dc73f0193"
      },
      "execution_count": null,
      "outputs": [
        {
          "output_type": "stream",
          "name": "stdout",
          "text": [
            "Requirement already satisfied: SpeechRecognition in /usr/local/lib/python3.10/dist-packages (3.10.0)\n",
            "Requirement already satisfied: requests>=2.26.0 in /usr/local/lib/python3.10/dist-packages (from SpeechRecognition) (2.31.0)\n",
            "Requirement already satisfied: charset-normalizer<4,>=2 in /usr/local/lib/python3.10/dist-packages (from requests>=2.26.0->SpeechRecognition) (3.3.2)\n",
            "Requirement already satisfied: idna<4,>=2.5 in /usr/local/lib/python3.10/dist-packages (from requests>=2.26.0->SpeechRecognition) (3.4)\n",
            "Requirement already satisfied: urllib3<3,>=1.21.1 in /usr/local/lib/python3.10/dist-packages (from requests>=2.26.0->SpeechRecognition) (2.0.7)\n",
            "Requirement already satisfied: certifi>=2017.4.17 in /usr/local/lib/python3.10/dist-packages (from requests>=2.26.0->SpeechRecognition) (2023.7.22)\n"
          ]
        }
      ]
    },
    {
      "cell_type": "code",
      "execution_count": null,
      "metadata": {
        "id": "GQn1wO2qr01C"
      },
      "outputs": [],
      "source": [
        "import numpy as np\n",
        "import pandas as pd\n",
        "import matplotlib.pyplot as plt\n",
        "import csv\n",
        "import torch\n",
        "import torch.nn as nn\n",
        "import torch.nn.functional as F\n",
        "import torch.optim as optim\n",
        "from sklearn.metrics import roc_curve, auc, f1_score\n",
        "import nltk\n",
        "from nltk.corpus import stopwords\n",
        "from nltk.stem import PorterStemmer, WordNetLemmatizer\n",
        "import random\n",
        "from moviepy.editor import *\n",
        "# from pydub import AudioSegment\n",
        "# from pydub.utils import which\n",
        "import speech_recognition as sr"
      ]
    },
    {
      "cell_type": "code",
      "execution_count": null,
      "metadata": {
        "colab": {
          "base_uri": "https://localhost:8080/"
        },
        "id": "zJcTk7DnfXRx",
        "outputId": "9f475bf4-26e2-4fa1-bfae-fc57b36222aa"
      },
      "outputs": [
        {
          "output_type": "stream",
          "name": "stdout",
          "text": [
            "Drive already mounted at /content/drive; to attempt to forcibly remount, call drive.mount(\"/content/drive\", force_remount=True).\n"
          ]
        }
      ],
      "source": [
        "from google.colab import drive\n",
        "drive.mount('/content/drive')\n",
        "filepath = '/content/drive/MyDrive/FLASH MDP /audio code/glove.6B.50d.txt'\n",
        "# nltk.download('stopwords')\n",
        "# nltk.download('wordnet')"
      ]
    },
    {
      "cell_type": "code",
      "execution_count": null,
      "metadata": {
        "id": "6-_w-hfGnpOS"
      },
      "outputs": [],
      "source": [
        "def remove_articles(text):\n",
        "    articles = {'the', 'a', 'an'}\n",
        "    words = text.split()\n",
        "    words_filtered = [word for word in words if word not in articles]\n",
        "    return ' '.join(words_filtered)\n",
        "\n",
        "\n",
        "def clean_text(t):\n",
        "    for c in string.punctuation:\n",
        "        t = t.replace(c, \" \")\n",
        "    t = t.lower()\n",
        "#     t = remove_articles(t)\n",
        "    t = t.split()\n",
        "    wordsFiltered = []\n",
        "    stops = set(stopwords.words('english'))\n",
        "    ps = PorterStemmer()\n",
        "    lemmatizer = WordNetLemmatizer()\n",
        "    for w in t:\n",
        "        if w not in stops:\n",
        "            wordsFiltered.append(lemmatizer.lemmatize(w))\n",
        "    return ' '.join(wordsFiltered)\n",
        "\n",
        "\n",
        "\n",
        "def augment_sentence(sentence):\n",
        "    words = sentence.split()\n",
        "    if len(words) > 1:\n",
        "        idx1, idx2 = random.sample(range(len(words)), 2)\n",
        "        words[idx1], words[idx2] = words[idx2], words[idx1]\n",
        "    return ' '.join(words)\n"
      ]
    },
    {
      "cell_type": "code",
      "execution_count": null,
      "metadata": {
        "id": "d04n5XXyf5Cj"
      },
      "outputs": [],
      "source": [
        "# HELPER FUNCTIONS\n",
        "\n",
        "def read_glove_vecs(glove_file):\n",
        "    with open(glove_file, 'r') as f:\n",
        "        words = set()\n",
        "        word_to_vec_map = {}\n",
        "        for line in f:\n",
        "            line = line.strip().split()\n",
        "            curr_word = line[0]\n",
        "            words.add(curr_word)\n",
        "            word_to_vec_map[curr_word] = np.array(line[1:], dtype=np.float64)\n",
        "\n",
        "        i = 1\n",
        "        words_to_index = {}\n",
        "        index_to_words = {}\n",
        "        for w in sorted(words):\n",
        "            words_to_index[w] = i\n",
        "            index_to_words[i] = w\n",
        "            i = i + 1\n",
        "    return words_to_index, index_to_words, word_to_vec_map\n",
        "\n",
        "def convert_to_one_hot(Y, C):\n",
        "    Y = np.eye(C)[Y.reshape(-1)]\n",
        "    return Y\n",
        "\n",
        "def read_csv(filename):\n",
        "    phrase = []\n",
        "    emoji = []\n",
        "\n",
        "    with open (filename) as csvDataFile:\n",
        "        csvReader = csv.reader(csvDataFile)\n",
        "\n",
        "        for row in csvReader:\n",
        "            phrase.append(row[0])\n",
        "            emoji.append(row[1])\n",
        "\n",
        "    X = np.asarray(phrase)\n",
        "    Y = np.asarray(emoji, dtype=int)\n",
        "\n",
        "    return X, Y"
      ]
    },
    {
      "cell_type": "code",
      "execution_count": null,
      "metadata": {
        "id": "RmqjSlwofS_i"
      },
      "outputs": [],
      "source": [
        "X_train, Y_train = read_csv('/content/drive/MyDrive/FLASH MDP /audio code/train_reduced.csv')\n",
        "X_test, Y_test = read_csv('/content/drive/MyDrive/FLASH MDP /audio code/test (3).csv')\n",
        "\n",
        "# X_valid, Y_valid = read_csv(\"valid_binary.csv\")"
      ]
    },
    {
      "cell_type": "code",
      "execution_count": null,
      "metadata": {
        "id": "Gt5z5eqVih4i"
      },
      "outputs": [],
      "source": [
        "Y_oh_train = convert_to_one_hot(Y_train, C = 2)\n",
        "Y_oh_test = convert_to_one_hot(Y_test, C = 2)"
      ]
    },
    {
      "cell_type": "code",
      "execution_count": null,
      "metadata": {
        "id": "jDe5vX3qiYcB"
      },
      "outputs": [],
      "source": [
        "word_to_index, index_to_word, word_to_vec_map = read_glove_vecs(filepath)"
      ]
    },
    {
      "cell_type": "code",
      "source": [
        "from google.colab import drive\n",
        "drive.mount('/content/drive')"
      ],
      "metadata": {
        "colab": {
          "base_uri": "https://localhost:8080/"
        },
        "id": "qyYWmAT3x_6L",
        "outputId": "ec1c7329-486f-4068-a5bf-7dbb32c59219"
      },
      "execution_count": null,
      "outputs": [
        {
          "output_type": "stream",
          "name": "stdout",
          "text": [
            "Drive already mounted at /content/drive; to attempt to forcibly remount, call drive.mount(\"/content/drive\", force_remount=True).\n"
          ]
        }
      ]
    },
    {
      "cell_type": "code",
      "execution_count": null,
      "metadata": {
        "id": "fh0iyxn_jDCR"
      },
      "outputs": [],
      "source": [
        "def sentences_to_indices(X, word_to_index, max_len, clean_text_function, augment=False):\n",
        "    \"\"\"\n",
        "    Converts an array of sentences (strings) into an array of indices corresponding to words in the sentences.\n",
        "    \"\"\"\n",
        "\n",
        "    m = X.shape[0]  # number of training examples\n",
        "    X_indices = np.zeros((m, max_len))\n",
        "\n",
        "    for i in range(m):\n",
        "        # Clean and optionally augment the sentence\n",
        "        sentence = clean_text_function(X[i])\n",
        "        if augment:\n",
        "            sentence = augment_sentence(sentence)\n",
        "\n",
        "        sentence_words = sentence.lower().split()\n",
        "\n",
        "        j = 0\n",
        "        for w in sentence_words:\n",
        "            if w not in word_to_index or j >= max_len:\n",
        "                continue\n",
        "            X_indices[i, j] = word_to_index[w]\n",
        "            j += 1\n",
        "\n",
        "    return X_indices\n"
      ]
    },
    {
      "cell_type": "code",
      "execution_count": null,
      "metadata": {
        "id": "LLyIs_aFjdfl"
      },
      "outputs": [],
      "source": [
        "# X1 = np.array([\"lol\", \"I love you\", \"this is very yummy\"])\n",
        "# X1_indices = sentences_to_indices(X1,word_to_index, max_len = 5)\n",
        "# print(\"X1 =\", X1)\n",
        "# print(\"X1_indices =\", X1_indices)"
      ]
    },
    {
      "cell_type": "markdown",
      "metadata": {
        "id": "UMKHhghrWcNn"
      },
      "source": [
        "## Defining the Network using Pretrained Embedding Layer using GloVe Word Embeddings"
      ]
    },
    {
      "cell_type": "code",
      "execution_count": null,
      "metadata": {
        "id": "JZDWRfRkWhwB"
      },
      "outputs": [],
      "source": [
        "import torch\n",
        "import torch.nn as nn\n",
        "import torch.nn.functional as F\n",
        "\n"
      ]
    },
    {
      "cell_type": "markdown",
      "metadata": {
        "id": "QK1Bty6f5yQ3"
      },
      "source": [
        "## Creating the Glove Embedding Layer"
      ]
    },
    {
      "cell_type": "code",
      "execution_count": null,
      "metadata": {
        "id": "g-UcwaXPgZyj"
      },
      "outputs": [],
      "source": [
        "def pretrained_embedding_layer(word_to_vec_map, word_to_index, non_trainable=True):\n",
        "    num_embeddings = len(word_to_index) + 1\n",
        "    embedding_dim = word_to_vec_map[\"minicamps\"].shape[0]  #  dimensionality of GloVe word vectors (= 50)\n",
        "\n",
        "    # Initialize the embedding matrix as a numpy array of zeros of shape (num_embeddings, embedding_dim)\n",
        "    weights_matrix = np.zeros((num_embeddings, embedding_dim))\n",
        "\n",
        "    # Set each row \"index\" of the embedding matrix to be the word vector representation of the \"index\"th word of the vocabulary\n",
        "    for word, index in word_to_index.items():\n",
        "        weights_matrix[index, :] = word_to_vec_map[word]\n",
        "\n",
        "    embed = nn.Embedding.from_pretrained(torch.from_numpy(weights_matrix).type(torch.FloatTensor), freeze=non_trainable)\n",
        "\n",
        "    return embed, num_embeddings, embedding_dim\n"
      ]
    },
    {
      "cell_type": "markdown",
      "metadata": {
        "id": "C7urFqpr5ntp"
      },
      "source": [
        "## Training the model"
      ]
    },
    {
      "cell_type": "code",
      "execution_count": null,
      "metadata": {
        "colab": {
          "base_uri": "https://localhost:8080/"
        },
        "id": "Fgb8si4s9Jb9",
        "outputId": "0f041cef-6171-43bc-fb87-f5f4be91059d",
        "scrolled": false
      },
      "outputs": [
        {
          "output_type": "stream",
          "name": "stderr",
          "text": [
            "[nltk_data] Downloading package omw-1.4 to /root/nltk_data...\n",
            "[nltk_data]   Package omw-1.4 is already up-to-date!\n",
            "[nltk_data] Downloading package stopwords to /root/nltk_data...\n",
            "[nltk_data]   Package stopwords is already up-to-date!\n",
            "[nltk_data] Downloading package wordnet to /root/nltk_data...\n",
            "[nltk_data]   Package wordnet is already up-to-date!\n"
          ]
        }
      ],
      "source": [
        "import torch.utils.data\n",
        "import string\n",
        "\n",
        "nltk.download('omw-1.4')\n",
        "import nltk\n",
        "nltk.download('stopwords')\n",
        "nltk.download('wordnet')\n",
        "\n",
        "maxLen = len(max(X_train, key=len).split())\n",
        "X_train_indices = sentences_to_indices(X_train, word_to_index, maxLen, clean_text, augment=True)\n",
        "\n",
        "Y_train_oh = convert_to_one_hot(Y_train, C = 2)\n",
        "# X_valid_indices = sentences_to_indices(X_valid, word_to_index, maxLen, clean_text)\n",
        "X_test_indices = sentences_to_indices(X_test, word_to_index, maxLen, clean_text)\n",
        "\n",
        "# Y_valid_oh = convert_to_one_hot(Y_valid, C = 2)\n",
        "\n",
        "\n",
        "\n",
        "Y_test_oh = convert_to_one_hot(Y_test, C = 2)\n",
        "\n",
        "# embedding, vocab_size, embedding_dim = pretrained_embedding_layer(word_to_vec_map, word_to_index, non_trainable=True)\n",
        "\n",
        "hidden_dim=128\n",
        "output_size=2\n",
        "batch_size = 32\n",
        "\n",
        "# #print ('Embedding layer is ', embedding)\n",
        "# #print ('Embedding layer weights ', embedding.weight.shape)b\n",
        "\n",
        "# model = NN(embedding, embedding_dim, hidden_dim, vocab_size, output_size, batch_size)\n",
        "# criterion = nn.CrossEntropyLoss()\n",
        "# optimizer = optim.Adam(model.parameters(), lr=0.001)\n",
        "# epochs = 50\n",
        "# train_dataset = torch.utils.data.TensorDataset(torch.tensor(X_train_indices).type(torch.LongTensor), torch.tensor(Y_train).type(torch.LongTensor))\n",
        "# train_loader = torch.utils.data.DataLoader(train_dataset, batch_size=batch_size)\n",
        "\n",
        "# test_dataset = torch.utils.data.TensorDataset(torch.tensor(X_test_indices).type(torch.LongTensor), torch.tensor(Y_test).type(torch.LongTensor))\n",
        "# test_loader = torch.utils.data.DataLoader(test_dataset, batch_size=batch_size)\n",
        "\n",
        "# train(model, train_loader, test_loader, criterion, optimizer, epochs)"
      ]
    },
    {
      "cell_type": "code",
      "execution_count": null,
      "metadata": {
        "id": "R451SiSxnpOX"
      },
      "outputs": [],
      "source": [
        "def calculate_accuracy(outputs, labels):\n",
        "    # 获得每个输出的最大值的索引，这是预测的类别\n",
        "    _, predicted = torch.max(outputs, 1)\n",
        "    # 计算正确预测的数量\n",
        "\n",
        "    # 计算准确率\n",
        "    corrects = torch.sum(predicted == labels).item()\n",
        "    return corrects"
      ]
    },
    {
      "cell_type": "code",
      "execution_count": null,
      "metadata": {
        "colab": {
          "base_uri": "https://localhost:8080/"
        },
        "id": "g1iuvgfPnpOX",
        "outputId": "6d9f3111-d7c2-4694-e08e-f7c25c2ed9eb"
      },
      "outputs": [
        {
          "output_type": "execute_result",
          "data": {
            "text/plain": [
              "EnhancedLSTM(\n",
              "  (word_embeddings): Embedding(400001, 50)\n",
              "  (bidirectional_lstm): LSTM(50, 128, num_layers=2, batch_first=True, dropout=0.5, bidirectional=True)\n",
              "  (dropout): Dropout(p=0.5, inplace=False)\n",
              "  (batch_norm): BatchNorm1d(256, eps=1e-05, momentum=0.1, affine=True, track_running_stats=True)\n",
              "  (attention): Attention(\n",
              "    (attn): Linear(in_features=256, out_features=1, bias=True)\n",
              "  )\n",
              "  (fc): Linear(in_features=256, out_features=2, bias=True)\n",
              ")"
            ]
          },
          "metadata": {},
          "execution_count": 60
        }
      ],
      "source": [
        "class Attention(nn.Module):\n",
        "    def __init__(self, hidden_dim):\n",
        "        super(Attention, self).__init__()\n",
        "        self.hidden_dim = hidden_dim\n",
        "        self.attn = nn.Linear(self.hidden_dim, 1)\n",
        "\n",
        "    def forward(self, lstm_output):\n",
        "        attn_weights = F.softmax(self.attn(lstm_output), dim=1)\n",
        "        context = torch.sum(attn_weights * lstm_output, dim=1)\n",
        "        return context, attn_weights\n",
        "\n",
        "class EnhancedLSTM(nn.Module):\n",
        "    def __init__(self, embedding, hidden_dim, output_dim, batch_size):\n",
        "        super(EnhancedLSTM, self).__init__()\n",
        "        self.batch_size = batch_size\n",
        "        self.hidden_dim = hidden_dim\n",
        "        self.word_embeddings = embedding\n",
        "        self.bidirectional_lstm = nn.LSTM(\n",
        "            embedding.embedding_dim,\n",
        "            hidden_dim,\n",
        "            num_layers=2,\n",
        "            dropout=0.5,\n",
        "            batch_first=True,\n",
        "            bidirectional=True\n",
        "        )\n",
        "        self.dropout = nn.Dropout(0.5)\n",
        "        self.batch_norm = nn.BatchNorm1d(hidden_dim * 2)  # *2 for bidirectional\n",
        "        self.attention = Attention(hidden_dim * 2)  # *2 for bidirectional\n",
        "        self.fc = nn.Linear(hidden_dim * 2, output_dim)  # *2 for bidirectional\n",
        "\n",
        "    def forward(self, sentence):\n",
        "        embeds = self.word_embeddings(sentence)\n",
        "        lstm_out, _ = self.bidirectional_lstm(embeds)\n",
        "        lstm_out = self.dropout(lstm_out)\n",
        "        lstm_out, attn_weights = self.attention(lstm_out)\n",
        "        lstm_out = self.batch_norm(lstm_out)\n",
        "        out = self.fc(lstm_out)\n",
        "        return out, attn_weights\n",
        "\n",
        "# Instantiate the model\n",
        "device = torch.device(\"cuda:0\" if torch.cuda.is_available() else \"cpu\")\n",
        "\n",
        "embedding, vocab_size, embedding_dim = pretrained_embedding_layer(word_to_vec_map, word_to_index, non_trainable=True)\n",
        "embedding.to(device)\n",
        "device = torch.device(\"cuda\" if torch.cuda.is_available() else \"cpu\")\n",
        "model = EnhancedLSTM(embedding, hidden_dim=128, output_dim=2, batch_size=64)\n",
        "\n",
        "\n",
        "model.to(device)\n"
      ]
    },
    {
      "cell_type": "code",
      "execution_count": null,
      "metadata": {
        "colab": {
          "base_uri": "https://localhost:8080/",
          "height": 476
        },
        "id": "whHoEqZsnpOY",
        "outputId": "1de837a9-40d7-4b09-f76c-43622f9c33d7"
      },
      "outputs": [
        {
          "output_type": "display_data",
          "data": {
            "text/plain": [
              "<Figure size 640x480 with 1 Axes>"
            ],
            "image/png": "[encoded data removed]"
          },
          "metadata": {}
        }
      ],
      "source": [
        "from torch.utils.data import TensorDataset, DataLoader\n",
        "from sklearn.metrics import roc_auc_score\n",
        "criterion = nn.CrossEntropyLoss()\n",
        "train_dataset = TensorDataset(torch.tensor(X_train_indices).long(), torch.tensor(Y_train).long())\n",
        "train_loader = DataLoader(train_dataset, batch_size=batch_size, shuffle=True)\n",
        "\n",
        "# Starting and ending learning rate for the test\n",
        "start_lr = 1e-7\n",
        "end_lr = 1\n",
        "num_iter = len(train_loader)  # Total number of batches\n",
        "\n",
        "# Set up the optimizer with the starting learning rate\n",
        "optimizer = optim.Adam(model.parameters(), lr=start_lr)\n",
        "\n",
        "lr_lambda = lambda x: np.exp(x * np.log(end_lr / start_lr) / (num_iter - 1))\n",
        "scheduler = torch.optim.lr_scheduler.LambdaLR(optimizer, lr_lambda)\n",
        "current_lr = optimizer.param_groups[0]['lr']\n",
        "assert current_lr <= end_lr, \"Learning rate exceeded end_lr\"\n",
        "\n",
        "# Store the losses and learning rates\n",
        "losses = []\n",
        "lrs = []\n",
        "\n",
        "# Training loop\n",
        "device = torch.device(\"cuda:0\" if torch.cuda.is_available() else \"cpu\")\n",
        "\n",
        "model.to(device)\n",
        "model.train()\n",
        "for batch_idx, (data, target) in enumerate(train_loader):\n",
        "    optimizer.zero_grad()\n",
        "    data, target = data.to(device), target.to(device)\n",
        "    # Get the model's predictions (ignoring the attention weights)\n",
        "    output, _ = model(data)  # Unpack the tuple returned by your model\n",
        "\n",
        "    # Calculate the loss using only the output\n",
        "    loss = criterion(output, target)\n",
        "    loss.backward()\n",
        "    optimizer.step()\n",
        "    scheduler.step()\n",
        "\n",
        "    # Record the loss and the current learning rate\n",
        "    losses.append(loss.item())\n",
        "    lrs.append(optimizer.param_groups[0]['lr'])\n",
        "\n",
        "    # Stop if the loss explodes\n",
        "    if batch_idx > 0 and losses[-1] > 4 * min(losses):\n",
        "        break\n",
        "\n",
        "# Plotting the learning rate range test\n",
        "plt.plot(lrs, losses)\n",
        "plt.xscale('log')\n",
        "plt.xlabel('Learning rate')\n",
        "plt.ylabel('Loss')\n",
        "plt.title('Learning rate range test')\n",
        "plt.show()\n"
      ]
    },
    {
      "cell_type": "code",
      "execution_count": null,
      "metadata": {
        "id": "T1gpKVNLnpOY"
      },
      "outputs": [],
      "source": [
        "device = torch.device(\"cuda:0\" if torch.cuda.is_available() else \"cpu\")\n",
        "\n",
        "# Load pre-trained embeddings using your predefined function\n",
        "embedding, vocab_size, embedding_dim = pretrained_embedding_layer(word_to_vec_map, word_to_index, non_trainable=True)\n",
        "embedding.to(device)\n",
        "\n",
        "# Define your dataset and dataloader\n",
        "train_dataset = TensorDataset(torch.tensor(X_train_indices).long(), torch.tensor(Y_train).long())\n",
        "train_loader = DataLoader(train_dataset, batch_size=batch_size, shuffle=True)\n",
        "\n",
        "# valid_dataset = TensorDataset(torch.tensor(X_valid_indices).long(), torch.tensor(Y_valid).long())\n",
        "# valid_loader = DataLoader(valid_dataset, batch_size=batch_size, shuffle=True)\n",
        "\n",
        "test_dataset = TensorDataset(torch.tensor(X_test_indices).long(), torch.tensor(Y_test).long())\n",
        "test_loader = DataLoader(test_dataset, batch_size=batch_size, shuffle=False)\n"
      ]
    },
    {
      "cell_type": "code",
      "execution_count": null,
      "metadata": {
        "scrolled": false,
        "colab": {
          "base_uri": "https://localhost:8080/"
        },
        "id": "QG8CZ3PPnpOY",
        "outputId": "40bf279e-de37-47a8-f970-d0dd731525d1"
      },
      "outputs": [
        {
          "output_type": "stream",
          "name": "stdout",
          "text": [
            "Fold 1/5\n"
          ]
        }
      ],
      "source": [
        "import torch\n",
        "import torch.nn as nn\n",
        "import torch.optim as optim\n",
        "import numpy as np\n",
        "from torch.utils.data import TensorDataset, DataLoader\n",
        "from sklearn.metrics import roc_auc_score\n",
        "\n",
        "\n",
        "\n",
        "\n",
        "\n",
        "# Initialize your model\n",
        "output_dim = 2\n",
        "\n",
        "model.to(device)\n",
        "\n",
        "# Define loss function and optimizer\n",
        "criterion = nn.CrossEntropyLoss()\n",
        "optimizer = optim.Adam(model.parameters(), lr=0.0004)\n",
        "\n",
        "# Training loop\n",
        "import matplotlib.pyplot as plt\n",
        "from sklearn.model_selection import KFold\n",
        "\n",
        "# Since the assistant environment doesn't have PyTorch installed, I'll write the code\n",
        "# without executing it, and the user can execute it in their own environment.\n",
        "\n",
        "import copy\n",
        "import torch\n",
        "import torch.nn as nn\n",
        "from torch.utils.data import DataLoader, SubsetRandomSampler\n",
        "from sklearn.metrics import roc_auc_score\n",
        "from sklearn.model_selection import KFold\n",
        "import matplotlib.pyplot as plt\n",
        "\n",
        "def train_k_fold(model_class, full_dataset, criterion, optimizer, num_epochs=10, k=10, clip_value=1.0):\n",
        "    kf = KFold(n_splits=k, shuffle=True)\n",
        "    fold_results = {}\n",
        "    overall_best_auroc_score = 0.0\n",
        "    overall_best_model_state = None\n",
        "    avg_train_accs = [0.0] * num_epochs\n",
        "    avg_val_accs = [0.0] * num_epochs\n",
        "    train_losses_all_folds = []\n",
        "    val_losses_all_folds = []\n",
        "    patience = 10\n",
        "    best_index = -1\n",
        "    epoch_num = [num_epochs] * 5\n",
        "    all_folds_train_acc = []\n",
        "    all_folds_val_acc = []\n",
        "    max_epoch_count = 0\n",
        "\n",
        "    for fold, (train_idx, val_idx) in enumerate(kf.split(full_dataset)):\n",
        "        print(f'Fold {fold + 1}/{k}')\n",
        "        # 重置最佳分数和模型状态\n",
        "        model = EnhancedLSTM(embedding, hidden_dim=64, output_dim=2, batch_size=64)\n",
        "        model.to(device)\n",
        "        optimizer = optim.Adam(model.parameters(), lr=0.00003)\n",
        "        best_auroc_score = 0.0\n",
        "        best_val_loss = float('inf')\n",
        "        best_model_state = None\n",
        "\n",
        "        train_subsampler = SubsetRandomSampler(train_idx)\n",
        "        val_subsampler = SubsetRandomSampler(val_idx)\n",
        "        train_loader = DataLoader(full_dataset, batch_size=batch_size, sampler=train_subsampler)\n",
        "        val_loader = DataLoader(full_dataset, batch_size=batch_size, sampler=val_subsampler)\n",
        "\n",
        "        train_losses = []\n",
        "        val_losses = []\n",
        "        train_losses, train_accs = [], []\n",
        "        val_losses, val_accs = [], []\n",
        "        #early stopping\n",
        "        epochs_no_improve = 0\n",
        "        early_stop = False\n",
        "\n",
        "        for epoch in range(num_epochs):\n",
        "            model.train()\n",
        "            train_loss = 0.0\n",
        "            train_correct = 0\n",
        "            train_total = 0\n",
        "\n",
        "            for sentences, labels in train_loader:\n",
        "                sentences, labels = sentences.to(device), labels.to(device)\n",
        "                optimizer.zero_grad()\n",
        "                output, _ = model(sentences)\n",
        "                loss = criterion(output, labels)\n",
        "                loss.backward()\n",
        "                torch.nn.utils.clip_grad_norm_(model.parameters(), clip_value)\n",
        "                optimizer.step()\n",
        "\n",
        "                train_loss += loss.item()\n",
        "                train_correct += calculate_accuracy(output, labels)\n",
        "                train_total += labels.size(0)\n",
        "\n",
        "            train_losses.append(train_loss / len(train_loader))\n",
        "            # epoch_train_acc = total_correct / total_samples\n",
        "            # avg_train_accs[epoch] += epoch_train_acc\n",
        "            model.eval()\n",
        "            val_loss, val_correct, val_total = 0.0, 0, 0\n",
        "            all_val_targets, all_val_outputs = [], []\n",
        "\n",
        "            train_accs.append(train_correct / train_total)\n",
        "\n",
        "            val_y_probs, val_y_trues = [], []\n",
        "            total_correct_val = 0\n",
        "            total_samples_val = 0\n",
        "\n",
        "\n",
        "            with torch.no_grad():\n",
        "                for sentences, labels in val_loader:\n",
        "                    sentences, labels = sentences.to(device), labels.to(device)\n",
        "                    output, _ = model(sentences)\n",
        "                    loss = criterion(output, labels)\n",
        "                    val_loss += loss.item()\n",
        "\n",
        "                    probabilities = torch.nn.functional.softmax(output, dim=1)\n",
        "                    val_y_probs.extend(probabilities[:, 1].cpu().numpy())\n",
        "                    val_y_trues.extend(labels.cpu().numpy())\n",
        "\n",
        "                    total_correct_val += calculate_accuracy(output, labels)\n",
        "                    total_samples_val += labels.size(0)\n",
        "\n",
        "            val_losses.append(val_loss / len(val_loader))\n",
        "            epoch_val_acc = total_correct_val / total_samples_val\n",
        "            avg_val_accs[epoch] += epoch_val_acc\n",
        "            val_auroc = roc_auc_score(val_y_trues, val_y_probs)\n",
        "            val_accs.append(total_correct_val / total_samples_val)\n",
        "            all_folds_train_acc.append(train_accs)\n",
        "            all_folds_val_acc.append(val_accs)\n",
        "\n",
        "            if len(train_accs) > max_epoch_count:\n",
        "              max_epoch_count = len(train_accs)\n",
        "\n",
        "\n",
        "            if val_auroc > best_auroc_score or (val_auroc == best_auroc_score and val_loss / len(val_loader) < best_val_loss):\n",
        "                best_auroc_score = val_auroc\n",
        "                best_val_loss = val_loss / len(val_loader)\n",
        "                best_model_state = copy.deepcopy(model.state_dict())\n",
        "\n",
        "            #early stopping\n",
        "            if val_loss / len(val_loader) <= best_val_loss:\n",
        "                best_auroc_score = val_auroc\n",
        "                best_val_loss = val_loss / len(val_loader)\n",
        "                best_model_state = copy.deepcopy(model.state_dict())\n",
        "                epochs_no_improve = 0  # 重置早停计数器\n",
        "            else:\n",
        "                epochs_no_improve += 1  # 增加早停计数器\n",
        "\n",
        "                if epochs_no_improve >= patience:\n",
        "                    early_stop = True\n",
        "                    epoch_num[fold] = epoch\n",
        "                    print(f\"Early stopping triggered after {patience} epochs without improvement.\")\n",
        "                    break\n",
        "\n",
        "        for fold in range(k):\n",
        "              all_folds_train_acc[fold] += [all_folds_train_acc[fold][-1]] * (max_epoch_count - len(all_folds_train_acc[fold]))\n",
        "              all_folds_val_acc[fold] += [all_folds_val_acc[fold][-1]] * (max_epoch_count - len(all_folds_val_acc[fold]))\n",
        "\n",
        "        avg_train_acc = [np.mean([fold_acc[i] for fold_acc in all_folds_train_acc]) for i in range(max_epoch_count)]\n",
        "        avg_val_acc = [np.mean([fold_acc[i] for fold_acc in all_folds_val_acc]) for i in range(max_epoch_count)]\n",
        "\n",
        "        fold_results[fold] = {'best_auroc': best_auroc_score, 'best_loss': best_val_loss}\n",
        "        train_losses_all_folds.append(train_losses)\n",
        "        val_losses_all_folds.append(val_losses)\n",
        "\n",
        "        if best_auroc_score > overall_best_auroc_score:\n",
        "            overall_best_auroc_score = best_auroc_score\n",
        "            overall_best_model_state = best_model_state\n",
        "            best_index = fold\n",
        "\n",
        "        print(f'Fold {fold + 1} finished. Train Loss: {train_losses[-1]}, Validation Loss: {val_losses[-1]}, Best AUROC: {best_auroc_score}')\n",
        "\n",
        "    if overall_best_model_state:\n",
        "        torch.save(overall_best_model_state, 'overall_best_model.pth')\n",
        "        print(f'Saved overall best model with AUROC: {overall_best_auroc_score}')\n",
        "\n",
        "\n",
        "    best_fold_train_losses = train_losses_all_folds[best_index]\n",
        "    best_fold_val_losses = val_losses_all_folds[best_index]\n",
        "\n",
        "    plt.figure(figsize=(12, 6))\n",
        "\n",
        "    plt.subplot(1, 2, 1)\n",
        "    plt.plot(avg_train_acc, label='Average Training Accuracy')\n",
        "    plt.title('Average Training Accuracy per Epoch')\n",
        "    plt.xlabel('Epoch')\n",
        "    plt.ylabel('Accuracy')\n",
        "    plt.legend()\n",
        "\n",
        "    plt.subplot(1, 2, 2)\n",
        "    plt.plot(avg_val_acc, label='Average Validation Accuracy')\n",
        "    plt.title('Average Validation Accuracy per Epoch')\n",
        "    plt.xlabel('Epoch')\n",
        "    plt.ylabel('Accuracy')\n",
        "    plt.legend()\n",
        "\n",
        "    plt.show()\n",
        "    # 画图展示\n",
        "    plt.figure(figsize=(12, 6))\n",
        "\n",
        "    plt.subplot(1, 2, 1)\n",
        "    plt.plot(range(len(best_fold_train_losses)), best_fold_train_losses, label=f'Fold {best_index+1} Training Loss')\n",
        "    plt.title(f'Fold {best_index+1} Training Loss per Epoch')\n",
        "    plt.xlabel('Epoch')\n",
        "    plt.ylabel('Loss')\n",
        "    plt.legend()\n",
        "\n",
        "    plt.subplot(1, 2, 2)\n",
        "    plt.plot(range(len(best_fold_val_losses)), best_fold_val_losses, label=f'Fold {best_index+1} Validation Loss')\n",
        "    plt.title(f'Fold {best_index+1} Validation Loss per Epoch')\n",
        "    plt.xlabel('Epoch')\n",
        "    plt.ylabel('Loss')\n",
        "    plt.legend()\n",
        "\n",
        "    plt.tight_layout()\n",
        "    plt.show()\n",
        "\n",
        "\n",
        "    plt.figure(figsize=(12, 6))\n",
        "\n",
        "    for i, train_losses in enumerate(train_losses_all_folds):\n",
        "        plt.subplot(1, 2, 1)\n",
        "        plt.plot(train_losses, label=f'Fold {i+1}')\n",
        "    plt.title('Training Loss per Fold')\n",
        "    plt.xlabel('Epoch')\n",
        "    plt.ylabel('Loss')\n",
        "    plt.legend()\n",
        "\n",
        "    for i, val_losses in enumerate(val_losses_all_folds):\n",
        "        plt.subplot(1, 2, 2)\n",
        "        plt.plot(val_losses, label=f'Fold {i+1}')\n",
        "    plt.title('Validation Loss per Fold')\n",
        "    plt.xlabel('Epoch')\n",
        "    plt.ylabel('Loss')\n",
        "    plt.legend()\n",
        "\n",
        "    plt.tight_layout()\n",
        "    plt.show()\n",
        "\n",
        "    return fold_results, overall_best_auroc_score\n",
        "\n",
        "\n",
        "\n",
        "\n",
        "train_k_fold(model, train_dataset, criterion, optimizer, num_epochs=100, k=5, clip_value=1.0)\n"
      ]
    },
    {
      "cell_type": "code",
      "execution_count": null,
      "metadata": {
        "colab": {
          "base_uri": "https://localhost:8080/"
        },
        "id": "qL985xwJnpOZ",
        "outputId": "5b0c5a22-5056-45d4-fd18-3c5e5014c44c"
      },
      "outputs": [
        {
          "output_type": "stream",
          "name": "stdout",
          "text": [
            "Test Accuracy: 0.8669334667333667\n",
            "Test AUROC: 0.9337832937099568\n"
          ]
        }
      ],
      "source": [
        "model_path = 'overall_best_model.pth'\n",
        "\n",
        "# Assuming you have the embedding layer ready from your training\n",
        "embedding, vocab_size, embedding_dim = pretrained_embedding_layer(word_to_vec_map, word_to_index, non_trainable=True)\n",
        "\n",
        "# Create an instance of the model\n",
        "model1 = EnhancedLSTM(embedding, hidden_dim=64, output_dim=2, batch_size=64)\n",
        "model1.to(device)\n",
        "# Load the saved state dictionary\n",
        "model1.load_state_dict(torch.load(model_path, map_location=torch.device('cpu')))\n",
        "\n",
        "\n",
        "# Set the model to evaluation mode\n",
        "model1.eval()\n",
        "\n",
        "# Assuming test_loader is defined and is a DataLoader instance for your test dataset\n",
        "test_y_probs, test_y_trues = [], []\n",
        "with torch.no_grad():\n",
        "    for sentences, labels in test_loader:\n",
        "        sentences = sentences.to(device)\n",
        "        labels = labels.to(device)\n",
        "        outputs, _ = model1(sentences)\n",
        "        probabilities = torch.nn.functional.softmax(outputs, dim=1)\n",
        "        test_y_probs.extend(probabilities[:, 1].cpu().numpy())  # Assuming class \"1\" is the positive class\n",
        "        test_y_trues.extend(labels.cpu().numpy())\n",
        "\n",
        "# Calculate the test accuracy and AUROC\n",
        "test_accuracy = np.mean((np.array(test_y_probs) >= 0.5).astype(int) == np.array(test_y_trues))\n",
        "test_auroc = roc_auc_score(test_y_trues, test_y_probs)\n",
        "\n",
        "print(f'Test Accuracy: {test_accuracy}')\n",
        "print(f'Test AUROC: {test_auroc}')\n",
        "\n"
      ]
    },
    {
      "cell_type": "code",
      "execution_count": null,
      "metadata": {
        "id": "Mr072lYGnpOZ",
        "outputId": "caac9b35-91a8-4e6f-f99f-6f212f5c573b",
        "colab": {
          "base_uri": "https://localhost:8080/",
          "height": 562
        }
      },
      "outputs": [
        {
          "output_type": "error",
          "ename": "RuntimeError",
          "evalue": "ignored",
          "traceback": [
            "\u001b[0;31m---------------------------------------------------------------------------\u001b[0m",
            "\u001b[0;31mRuntimeError\u001b[0m                              Traceback (most recent call last)",
            "\u001b[0;32m<ipython-input-65-d3072ae44f92>\u001b[0m in \u001b[0;36m<cell line: 8>\u001b[0;34m()\u001b[0m\n\u001b[1;32m      6\u001b[0m \u001b[0mstring_index\u001b[0m \u001b[0;34m=\u001b[0m \u001b[0msentences_to_indices\u001b[0m\u001b[0;34m(\u001b[0m\u001b[0mX\u001b[0m\u001b[0;34m,\u001b[0m \u001b[0mword_to_index\u001b[0m\u001b[0;34m,\u001b[0m \u001b[0mmaxLen\u001b[0m\u001b[0;34m,\u001b[0m \u001b[0mclean_text\u001b[0m\u001b[0;34m)\u001b[0m\u001b[0;34m\u001b[0m\u001b[0;34m\u001b[0m\u001b[0m\n\u001b[1;32m      7\u001b[0m \u001b[0mstring_index_tensor\u001b[0m \u001b[0;34m=\u001b[0m \u001b[0mtorch\u001b[0m\u001b[0;34m.\u001b[0m\u001b[0mtensor\u001b[0m\u001b[0;34m(\u001b[0m\u001b[0mstring_index\u001b[0m\u001b[0;34m,\u001b[0m \u001b[0mdtype\u001b[0m\u001b[0;34m=\u001b[0m\u001b[0mtorch\u001b[0m\u001b[0;34m.\u001b[0m\u001b[0mlong\u001b[0m\u001b[0;34m)\u001b[0m  \u001b[0;31m# Convert to LongTensor\u001b[0m\u001b[0;34m\u001b[0m\u001b[0;34m\u001b[0m\u001b[0m\n\u001b[0;32m----> 8\u001b[0;31m \u001b[0moutput\u001b[0m \u001b[0;34m=\u001b[0m \u001b[0mmodel1\u001b[0m\u001b[0;34m(\u001b[0m\u001b[0mstring_index_tensor\u001b[0m\u001b[0;34m)\u001b[0m\u001b[0;34m\u001b[0m\u001b[0;34m\u001b[0m\u001b[0m\n\u001b[0m\u001b[1;32m      9\u001b[0m \u001b[0mtorch\u001b[0m\u001b[0;34m.\u001b[0m\u001b[0mnn\u001b[0m\u001b[0;34m.\u001b[0m\u001b[0mfunctional\u001b[0m\u001b[0;34m.\u001b[0m\u001b[0msoftmax\u001b[0m\u001b[0;34m(\u001b[0m\u001b[0moutput\u001b[0m\u001b[0;34m,\u001b[0m \u001b[0mdim\u001b[0m\u001b[0;34m=\u001b[0m\u001b[0;36m1\u001b[0m\u001b[0;34m)\u001b[0m\u001b[0;34m\u001b[0m\u001b[0;34m\u001b[0m\u001b[0m\n",
            "\u001b[0;32m/usr/local/lib/python3.10/dist-packages/torch/nn/modules/module.py\u001b[0m in \u001b[0;36m_wrapped_call_impl\u001b[0;34m(self, *args, **kwargs)\u001b[0m\n\u001b[1;32m   1516\u001b[0m             \u001b[0;32mreturn\u001b[0m \u001b[0mself\u001b[0m\u001b[0;34m.\u001b[0m\u001b[0m_compiled_call_impl\u001b[0m\u001b[0;34m(\u001b[0m\u001b[0;34m*\u001b[0m\u001b[0margs\u001b[0m\u001b[0;34m,\u001b[0m \u001b[0;34m**\u001b[0m\u001b[0mkwargs\u001b[0m\u001b[0;34m)\u001b[0m  \u001b[0;31m# type: ignore[misc]\u001b[0m\u001b[0;34m\u001b[0m\u001b[0;34m\u001b[0m\u001b[0m\n\u001b[1;32m   1517\u001b[0m         \u001b[0;32melse\u001b[0m\u001b[0;34m:\u001b[0m\u001b[0;34m\u001b[0m\u001b[0;34m\u001b[0m\u001b[0m\n\u001b[0;32m-> 1518\u001b[0;31m             \u001b[0;32mreturn\u001b[0m \u001b[0mself\u001b[0m\u001b[0;34m.\u001b[0m\u001b[0m_call_impl\u001b[0m\u001b[0;34m(\u001b[0m\u001b[0;34m*\u001b[0m\u001b[0margs\u001b[0m\u001b[0;34m,\u001b[0m \u001b[0;34m**\u001b[0m\u001b[0mkwargs\u001b[0m\u001b[0;34m)\u001b[0m\u001b[0;34m\u001b[0m\u001b[0;34m\u001b[0m\u001b[0m\n\u001b[0m\u001b[1;32m   1519\u001b[0m \u001b[0;34m\u001b[0m\u001b[0m\n\u001b[1;32m   1520\u001b[0m     \u001b[0;32mdef\u001b[0m \u001b[0m_call_impl\u001b[0m\u001b[0;34m(\u001b[0m\u001b[0mself\u001b[0m\u001b[0;34m,\u001b[0m \u001b[0;34m*\u001b[0m\u001b[0margs\u001b[0m\u001b[0;34m,\u001b[0m \u001b[0;34m**\u001b[0m\u001b[0mkwargs\u001b[0m\u001b[0;34m)\u001b[0m\u001b[0;34m:\u001b[0m\u001b[0;34m\u001b[0m\u001b[0;34m\u001b[0m\u001b[0m\n",
            "\u001b[0;32m/usr/local/lib/python3.10/dist-packages/torch/nn/modules/module.py\u001b[0m in \u001b[0;36m_call_impl\u001b[0;34m(self, *args, **kwargs)\u001b[0m\n\u001b[1;32m   1525\u001b[0m                 \u001b[0;32mor\u001b[0m \u001b[0m_global_backward_pre_hooks\u001b[0m \u001b[0;32mor\u001b[0m \u001b[0m_global_backward_hooks\u001b[0m\u001b[0;34m\u001b[0m\u001b[0;34m\u001b[0m\u001b[0m\n\u001b[1;32m   1526\u001b[0m                 or _global_forward_hooks or _global_forward_pre_hooks):\n\u001b[0;32m-> 1527\u001b[0;31m             \u001b[0;32mreturn\u001b[0m \u001b[0mforward_call\u001b[0m\u001b[0;34m(\u001b[0m\u001b[0;34m*\u001b[0m\u001b[0margs\u001b[0m\u001b[0;34m,\u001b[0m \u001b[0;34m**\u001b[0m\u001b[0mkwargs\u001b[0m\u001b[0;34m)\u001b[0m\u001b[0;34m\u001b[0m\u001b[0;34m\u001b[0m\u001b[0m\n\u001b[0m\u001b[1;32m   1528\u001b[0m \u001b[0;34m\u001b[0m\u001b[0m\n\u001b[1;32m   1529\u001b[0m         \u001b[0;32mtry\u001b[0m\u001b[0;34m:\u001b[0m\u001b[0;34m\u001b[0m\u001b[0;34m\u001b[0m\u001b[0m\n",
            "\u001b[0;32m<ipython-input-60-051941ce42ca>\u001b[0m in \u001b[0;36mforward\u001b[0;34m(self, sentence)\u001b[0m\n\u001b[1;32m     30\u001b[0m \u001b[0;34m\u001b[0m\u001b[0m\n\u001b[1;32m     31\u001b[0m     \u001b[0;32mdef\u001b[0m \u001b[0mforward\u001b[0m\u001b[0;34m(\u001b[0m\u001b[0mself\u001b[0m\u001b[0;34m,\u001b[0m \u001b[0msentence\u001b[0m\u001b[0;34m)\u001b[0m\u001b[0;34m:\u001b[0m\u001b[0;34m\u001b[0m\u001b[0;34m\u001b[0m\u001b[0m\n\u001b[0;32m---> 32\u001b[0;31m         \u001b[0membeds\u001b[0m \u001b[0;34m=\u001b[0m \u001b[0mself\u001b[0m\u001b[0;34m.\u001b[0m\u001b[0mword_embeddings\u001b[0m\u001b[0;34m(\u001b[0m\u001b[0msentence\u001b[0m\u001b[0;34m)\u001b[0m\u001b[0;34m\u001b[0m\u001b[0;34m\u001b[0m\u001b[0m\n\u001b[0m\u001b[1;32m     33\u001b[0m         \u001b[0mlstm_out\u001b[0m\u001b[0;34m,\u001b[0m \u001b[0m_\u001b[0m \u001b[0;34m=\u001b[0m \u001b[0mself\u001b[0m\u001b[0;34m.\u001b[0m\u001b[0mbidirectional_lstm\u001b[0m\u001b[0;34m(\u001b[0m\u001b[0membeds\u001b[0m\u001b[0;34m)\u001b[0m\u001b[0;34m\u001b[0m\u001b[0;34m\u001b[0m\u001b[0m\n\u001b[1;32m     34\u001b[0m         \u001b[0mlstm_out\u001b[0m \u001b[0;34m=\u001b[0m \u001b[0mself\u001b[0m\u001b[0;34m.\u001b[0m\u001b[0mdropout\u001b[0m\u001b[0;34m(\u001b[0m\u001b[0mlstm_out\u001b[0m\u001b[0;34m)\u001b[0m\u001b[0;34m\u001b[0m\u001b[0;34m\u001b[0m\u001b[0m\n",
            "\u001b[0;32m/usr/local/lib/python3.10/dist-packages/torch/nn/modules/module.py\u001b[0m in \u001b[0;36m_wrapped_call_impl\u001b[0;34m(self, *args, **kwargs)\u001b[0m\n\u001b[1;32m   1516\u001b[0m             \u001b[0;32mreturn\u001b[0m \u001b[0mself\u001b[0m\u001b[0;34m.\u001b[0m\u001b[0m_compiled_call_impl\u001b[0m\u001b[0;34m(\u001b[0m\u001b[0;34m*\u001b[0m\u001b[0margs\u001b[0m\u001b[0;34m,\u001b[0m \u001b[0;34m**\u001b[0m\u001b[0mkwargs\u001b[0m\u001b[0;34m)\u001b[0m  \u001b[0;31m# type: ignore[misc]\u001b[0m\u001b[0;34m\u001b[0m\u001b[0;34m\u001b[0m\u001b[0m\n\u001b[1;32m   1517\u001b[0m         \u001b[0;32melse\u001b[0m\u001b[0;34m:\u001b[0m\u001b[0;34m\u001b[0m\u001b[0;34m\u001b[0m\u001b[0m\n\u001b[0;32m-> 1518\u001b[0;31m             \u001b[0;32mreturn\u001b[0m \u001b[0mself\u001b[0m\u001b[0;34m.\u001b[0m\u001b[0m_call_impl\u001b[0m\u001b[0;34m(\u001b[0m\u001b[0;34m*\u001b[0m\u001b[0margs\u001b[0m\u001b[0;34m,\u001b[0m \u001b[0;34m**\u001b[0m\u001b[0mkwargs\u001b[0m\u001b[0;34m)\u001b[0m\u001b[0;34m\u001b[0m\u001b[0;34m\u001b[0m\u001b[0m\n\u001b[0m\u001b[1;32m   1519\u001b[0m \u001b[0;34m\u001b[0m\u001b[0m\n\u001b[1;32m   1520\u001b[0m     \u001b[0;32mdef\u001b[0m \u001b[0m_call_impl\u001b[0m\u001b[0;34m(\u001b[0m\u001b[0mself\u001b[0m\u001b[0;34m,\u001b[0m \u001b[0;34m*\u001b[0m\u001b[0margs\u001b[0m\u001b[0;34m,\u001b[0m \u001b[0;34m**\u001b[0m\u001b[0mkwargs\u001b[0m\u001b[0;34m)\u001b[0m\u001b[0;34m:\u001b[0m\u001b[0;34m\u001b[0m\u001b[0;34m\u001b[0m\u001b[0m\n",
            "\u001b[0;32m/usr/local/lib/python3.10/dist-packages/torch/nn/modules/module.py\u001b[0m in \u001b[0;36m_call_impl\u001b[0;34m(self, *args, **kwargs)\u001b[0m\n\u001b[1;32m   1525\u001b[0m                 \u001b[0;32mor\u001b[0m \u001b[0m_global_backward_pre_hooks\u001b[0m \u001b[0;32mor\u001b[0m \u001b[0m_global_backward_hooks\u001b[0m\u001b[0;34m\u001b[0m\u001b[0;34m\u001b[0m\u001b[0m\n\u001b[1;32m   1526\u001b[0m                 or _global_forward_hooks or _global_forward_pre_hooks):\n\u001b[0;32m-> 1527\u001b[0;31m             \u001b[0;32mreturn\u001b[0m \u001b[0mforward_call\u001b[0m\u001b[0;34m(\u001b[0m\u001b[0;34m*\u001b[0m\u001b[0margs\u001b[0m\u001b[0;34m,\u001b[0m \u001b[0;34m**\u001b[0m\u001b[0mkwargs\u001b[0m\u001b[0;34m)\u001b[0m\u001b[0;34m\u001b[0m\u001b[0;34m\u001b[0m\u001b[0m\n\u001b[0m\u001b[1;32m   1528\u001b[0m \u001b[0;34m\u001b[0m\u001b[0m\n\u001b[1;32m   1529\u001b[0m         \u001b[0;32mtry\u001b[0m\u001b[0;34m:\u001b[0m\u001b[0;34m\u001b[0m\u001b[0;34m\u001b[0m\u001b[0m\n",
            "\u001b[0;32m/usr/local/lib/python3.10/dist-packages/torch/nn/modules/sparse.py\u001b[0m in \u001b[0;36mforward\u001b[0;34m(self, input)\u001b[0m\n\u001b[1;32m    160\u001b[0m \u001b[0;34m\u001b[0m\u001b[0m\n\u001b[1;32m    161\u001b[0m     \u001b[0;32mdef\u001b[0m \u001b[0mforward\u001b[0m\u001b[0;34m(\u001b[0m\u001b[0mself\u001b[0m\u001b[0;34m,\u001b[0m \u001b[0minput\u001b[0m\u001b[0;34m:\u001b[0m \u001b[0mTensor\u001b[0m\u001b[0;34m)\u001b[0m \u001b[0;34m->\u001b[0m \u001b[0mTensor\u001b[0m\u001b[0;34m:\u001b[0m\u001b[0;34m\u001b[0m\u001b[0;34m\u001b[0m\u001b[0m\n\u001b[0;32m--> 162\u001b[0;31m         return F.embedding(\n\u001b[0m\u001b[1;32m    163\u001b[0m             \u001b[0minput\u001b[0m\u001b[0;34m,\u001b[0m \u001b[0mself\u001b[0m\u001b[0;34m.\u001b[0m\u001b[0mweight\u001b[0m\u001b[0;34m,\u001b[0m \u001b[0mself\u001b[0m\u001b[0;34m.\u001b[0m\u001b[0mpadding_idx\u001b[0m\u001b[0;34m,\u001b[0m \u001b[0mself\u001b[0m\u001b[0;34m.\u001b[0m\u001b[0mmax_norm\u001b[0m\u001b[0;34m,\u001b[0m\u001b[0;34m\u001b[0m\u001b[0;34m\u001b[0m\u001b[0m\n\u001b[1;32m    164\u001b[0m             self.norm_type, self.scale_grad_by_freq, self.sparse)\n",
            "\u001b[0;32m/usr/local/lib/python3.10/dist-packages/torch/nn/functional.py\u001b[0m in \u001b[0;36membedding\u001b[0;34m(input, weight, padding_idx, max_norm, norm_type, scale_grad_by_freq, sparse)\u001b[0m\n\u001b[1;32m   2231\u001b[0m         \u001b[0;31m# remove once script supports set_grad_enabled\u001b[0m\u001b[0;34m\u001b[0m\u001b[0;34m\u001b[0m\u001b[0m\n\u001b[1;32m   2232\u001b[0m         \u001b[0m_no_grad_embedding_renorm_\u001b[0m\u001b[0;34m(\u001b[0m\u001b[0mweight\u001b[0m\u001b[0;34m,\u001b[0m \u001b[0minput\u001b[0m\u001b[0;34m,\u001b[0m \u001b[0mmax_norm\u001b[0m\u001b[0;34m,\u001b[0m \u001b[0mnorm_type\u001b[0m\u001b[0;34m)\u001b[0m\u001b[0;34m\u001b[0m\u001b[0;34m\u001b[0m\u001b[0m\n\u001b[0;32m-> 2233\u001b[0;31m     \u001b[0;32mreturn\u001b[0m \u001b[0mtorch\u001b[0m\u001b[0;34m.\u001b[0m\u001b[0membedding\u001b[0m\u001b[0;34m(\u001b[0m\u001b[0mweight\u001b[0m\u001b[0;34m,\u001b[0m \u001b[0minput\u001b[0m\u001b[0;34m,\u001b[0m \u001b[0mpadding_idx\u001b[0m\u001b[0;34m,\u001b[0m \u001b[0mscale_grad_by_freq\u001b[0m\u001b[0;34m,\u001b[0m \u001b[0msparse\u001b[0m\u001b[0;34m)\u001b[0m\u001b[0;34m\u001b[0m\u001b[0;34m\u001b[0m\u001b[0m\n\u001b[0m\u001b[1;32m   2234\u001b[0m \u001b[0;34m\u001b[0m\u001b[0m\n\u001b[1;32m   2235\u001b[0m \u001b[0;34m\u001b[0m\u001b[0m\n",
            "\u001b[0;31mRuntimeError\u001b[0m: Expected all tensors to be on the same device, but found at least two devices, cuda:0 and cpu! (when checking argument for argument index in method wrapper_CUDA__index_select)"
          ]
        }
      ],
      "source": [
        "\n",
        "list1 = []\n",
        "string1 = \"wow this is awesome wow I love parking\"\n",
        "list1.append(string1)\n",
        "X = np.array(list1)\n",
        "\n",
        "string_index = sentences_to_indices(X, word_to_index, maxLen, clean_text)\n",
        "string_index_tensor = torch.tensor(string_index, dtype=torch.long)  # Convert to LongTensor\n",
        "output = model1(string_index_tensor)\n",
        "torch.nn.functional.softmax(output, dim=1)"
      ]
    },
    {
      "cell_type": "code",
      "execution_count": null,
      "metadata": {
        "id": "PJCN5NQGnpOZ"
      },
      "outputs": [],
      "source": []
    }
  ],
  "metadata": {
    "colab": {
      "provenance": [],
      "gpuType": "T4"
    },
    "kernelspec": {
      "display_name": "Python 3",
      "name": "python3"
    },
    "language_info": {
      "codemirror_mode": {
        "name": "ipython",
        "version": 3
      },
      "file_extension": ".py",
      "mimetype": "text/x-python",
      "name": "python",
      "nbconvert_exporter": "python",
      "pygments_lexer": "ipython3",
      "version": "3.10.9"
    },
    "accelerator": "GPU"
  },
  "nbformat": 4,
  "nbformat_minor": 0
}